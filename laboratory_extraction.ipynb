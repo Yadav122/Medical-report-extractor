{
  "nbformat": 4,
  "nbformat_minor": 0,
  "metadata": {
    "colab": {
      "provenance": [],
      "authorship_tag": "ABX9TyOUpd8jE7kpvGPrJ/qvlRRZ",
      "include_colab_link": true
    },
    "kernelspec": {
      "name": "python3",
      "display_name": "Python 3"
    },
    "language_info": {
      "name": "python"
    }
  },
  "cells": [
    {
      "cell_type": "markdown",
      "metadata": {
        "id": "view-in-github",
        "colab_type": "text"
      },
      "source": [
        "<a href=\"https://colab.research.google.com/github/Yadav122/Medical-report-extractor/blob/main/laboratory_extraction.ipynb\" target=\"_parent\"><img src=\"https://colab.research.google.com/assets/colab-badge.svg\" alt=\"Open In Colab\"/></a>"
      ]
    },
    {
      "cell_type": "code",
      "source": [
        "!pip install langchain"
      ],
      "metadata": {
        "colab": {
          "base_uri": "https://localhost:8080/"
        },
        "id": "ipyxyQfBANNa",
        "outputId": "c0e73750-d631-4d91-f0d7-0eb5def76c67"
      },
      "execution_count": null,
      "outputs": [
        {
          "output_type": "stream",
          "name": "stdout",
          "text": [
            "Collecting langchain\n",
            "  Downloading langchain-0.2.1-py3-none-any.whl (973 kB)\n",
            "\u001b[2K     \u001b[90m━━━━━━━━━━━━━━━━━━━━━━━━━━━━━━━━━━━━━━━━\u001b[0m \u001b[32m973.5/973.5 kB\u001b[0m \u001b[31m4.4 MB/s\u001b[0m eta \u001b[36m0:00:00\u001b[0m\n",
            "\u001b[?25hRequirement already satisfied: PyYAML>=5.3 in /usr/local/lib/python3.10/dist-packages (from langchain) (6.0.1)\n",
            "Requirement already satisfied: SQLAlchemy<3,>=1.4 in /usr/local/lib/python3.10/dist-packages (from langchain) (2.0.30)\n",
            "Requirement already satisfied: aiohttp<4.0.0,>=3.8.3 in /usr/local/lib/python3.10/dist-packages (from langchain) (3.9.5)\n",
            "Requirement already satisfied: async-timeout<5.0.0,>=4.0.0 in /usr/local/lib/python3.10/dist-packages (from langchain) (4.0.3)\n",
            "Collecting langchain-core<0.3.0,>=0.2.0 (from langchain)\n",
            "  Downloading langchain_core-0.2.3-py3-none-any.whl (310 kB)\n",
            "\u001b[2K     \u001b[90m━━━━━━━━━━━━━━━━━━━━━━━━━━━━━━━━━━━━━━━━\u001b[0m \u001b[32m310.2/310.2 kB\u001b[0m \u001b[31m5.3 MB/s\u001b[0m eta \u001b[36m0:00:00\u001b[0m\n",
            "\u001b[?25hCollecting langchain-text-splitters<0.3.0,>=0.2.0 (from langchain)\n",
            "  Downloading langchain_text_splitters-0.2.0-py3-none-any.whl (23 kB)\n",
            "Collecting langsmith<0.2.0,>=0.1.17 (from langchain)\n",
            "  Downloading langsmith-0.1.69-py3-none-any.whl (124 kB)\n",
            "\u001b[2K     \u001b[90m━━━━━━━━━━━━━━━━━━━━━━━━━━━━━━━━━━━━━━━━\u001b[0m \u001b[32m124.4/124.4 kB\u001b[0m \u001b[31m5.5 MB/s\u001b[0m eta \u001b[36m0:00:00\u001b[0m\n",
            "\u001b[?25hRequirement already satisfied: numpy<2,>=1 in /usr/local/lib/python3.10/dist-packages (from langchain) (1.25.2)\n",
            "Requirement already satisfied: pydantic<3,>=1 in /usr/local/lib/python3.10/dist-packages (from langchain) (2.7.2)\n",
            "Requirement already satisfied: requests<3,>=2 in /usr/local/lib/python3.10/dist-packages (from langchain) (2.31.0)\n",
            "Requirement already satisfied: tenacity<9.0.0,>=8.1.0 in /usr/local/lib/python3.10/dist-packages (from langchain) (8.3.0)\n",
            "Requirement already satisfied: aiosignal>=1.1.2 in /usr/local/lib/python3.10/dist-packages (from aiohttp<4.0.0,>=3.8.3->langchain) (1.3.1)\n",
            "Requirement already satisfied: attrs>=17.3.0 in /usr/local/lib/python3.10/dist-packages (from aiohttp<4.0.0,>=3.8.3->langchain) (23.2.0)\n",
            "Requirement already satisfied: frozenlist>=1.1.1 in /usr/local/lib/python3.10/dist-packages (from aiohttp<4.0.0,>=3.8.3->langchain) (1.4.1)\n",
            "Requirement already satisfied: multidict<7.0,>=4.5 in /usr/local/lib/python3.10/dist-packages (from aiohttp<4.0.0,>=3.8.3->langchain) (6.0.5)\n",
            "Requirement already satisfied: yarl<2.0,>=1.0 in /usr/local/lib/python3.10/dist-packages (from aiohttp<4.0.0,>=3.8.3->langchain) (1.9.4)\n",
            "Collecting jsonpatch<2.0,>=1.33 (from langchain-core<0.3.0,>=0.2.0->langchain)\n",
            "  Downloading jsonpatch-1.33-py2.py3-none-any.whl (12 kB)\n",
            "Collecting packaging<24.0,>=23.2 (from langchain-core<0.3.0,>=0.2.0->langchain)\n",
            "  Downloading packaging-23.2-py3-none-any.whl (53 kB)\n",
            "\u001b[2K     \u001b[90m━━━━━━━━━━━━━━━━━━━━━━━━━━━━━━━━━━━━━━━━\u001b[0m \u001b[32m53.0/53.0 kB\u001b[0m \u001b[31m5.4 MB/s\u001b[0m eta \u001b[36m0:00:00\u001b[0m\n",
            "\u001b[?25hCollecting orjson<4.0.0,>=3.9.14 (from langsmith<0.2.0,>=0.1.17->langchain)\n",
            "  Downloading orjson-3.10.3-cp310-cp310-manylinux_2_17_x86_64.manylinux2014_x86_64.whl (142 kB)\n",
            "\u001b[2K     \u001b[90m━━━━━━━━━━━━━━━━━━━━━━━━━━━━━━━━━━━━━━━━\u001b[0m \u001b[32m142.5/142.5 kB\u001b[0m \u001b[31m5.7 MB/s\u001b[0m eta \u001b[36m0:00:00\u001b[0m\n",
            "\u001b[?25hRequirement already satisfied: annotated-types>=0.4.0 in /usr/local/lib/python3.10/dist-packages (from pydantic<3,>=1->langchain) (0.7.0)\n",
            "Requirement already satisfied: pydantic-core==2.18.3 in /usr/local/lib/python3.10/dist-packages (from pydantic<3,>=1->langchain) (2.18.3)\n",
            "Requirement already satisfied: typing-extensions>=4.6.1 in /usr/local/lib/python3.10/dist-packages (from pydantic<3,>=1->langchain) (4.12.0)\n",
            "Requirement already satisfied: charset-normalizer<4,>=2 in /usr/local/lib/python3.10/dist-packages (from requests<3,>=2->langchain) (3.3.2)\n",
            "Requirement already satisfied: idna<4,>=2.5 in /usr/local/lib/python3.10/dist-packages (from requests<3,>=2->langchain) (3.7)\n",
            "Requirement already satisfied: urllib3<3,>=1.21.1 in /usr/local/lib/python3.10/dist-packages (from requests<3,>=2->langchain) (2.0.7)\n",
            "Requirement already satisfied: certifi>=2017.4.17 in /usr/local/lib/python3.10/dist-packages (from requests<3,>=2->langchain) (2024.2.2)\n",
            "Requirement already satisfied: greenlet!=0.4.17 in /usr/local/lib/python3.10/dist-packages (from SQLAlchemy<3,>=1.4->langchain) (3.0.3)\n",
            "Collecting jsonpointer>=1.9 (from jsonpatch<2.0,>=1.33->langchain-core<0.3.0,>=0.2.0->langchain)\n",
            "  Downloading jsonpointer-2.4-py2.py3-none-any.whl (7.8 kB)\n",
            "Installing collected packages: packaging, orjson, jsonpointer, jsonpatch, langsmith, langchain-core, langchain-text-splitters, langchain\n",
            "  Attempting uninstall: packaging\n",
            "    Found existing installation: packaging 24.0\n",
            "    Uninstalling packaging-24.0:\n",
            "      Successfully uninstalled packaging-24.0\n",
            "Successfully installed jsonpatch-1.33 jsonpointer-2.4 langchain-0.2.1 langchain-core-0.2.3 langchain-text-splitters-0.2.0 langsmith-0.1.69 orjson-3.10.3 packaging-23.2\n"
          ]
        }
      ]
    },
    {
      "cell_type": "code",
      "source": [
        "%pip install --upgrade --quiet  langchain-google-genai"
      ],
      "metadata": {
        "id": "sznwuF9RATrH"
      },
      "execution_count": null,
      "outputs": []
    },
    {
      "cell_type": "code",
      "source": [
        "!pip install pydantic"
      ],
      "metadata": {
        "colab": {
          "base_uri": "https://localhost:8080/"
        },
        "id": "kEAYAy0NAbVi",
        "outputId": "85aa4e2a-37d9-419b-f4c8-38b1bbef155f"
      },
      "execution_count": null,
      "outputs": [
        {
          "output_type": "stream",
          "name": "stdout",
          "text": [
            "Requirement already satisfied: pydantic in /usr/local/lib/python3.10/dist-packages (2.7.2)\n",
            "Requirement already satisfied: annotated-types>=0.4.0 in /usr/local/lib/python3.10/dist-packages (from pydantic) (0.7.0)\n",
            "Requirement already satisfied: pydantic-core==2.18.3 in /usr/local/lib/python3.10/dist-packages (from pydantic) (2.18.3)\n",
            "Requirement already satisfied: typing-extensions>=4.6.1 in /usr/local/lib/python3.10/dist-packages (from pydantic) (4.12.0)\n"
          ]
        }
      ]
    },
    {
      "cell_type": "code",
      "source": [
        "from langchain_google_genai import ChatGoogleGenerativeAI"
      ],
      "metadata": {
        "id": "byw01uNdAqoW"
      },
      "execution_count": null,
      "outputs": []
    },
    {
      "cell_type": "code",
      "source": [
        "import os\n",
        "from google.colab import userdata\n",
        "api_key = userdata.get('GOOGLE_API_KEY')\n",
        "os.environ[\"GOOGLE_API_KEY\"] = api_key"
      ],
      "metadata": {
        "id": "-9DdPXc4A2D8"
      },
      "execution_count": null,
      "outputs": []
    },
    {
      "cell_type": "code",
      "source": [
        "llm = ChatGoogleGenerativeAI(model=\"gemini-1.5-pro-latest\")"
      ],
      "metadata": {
        "id": "_68aZV--A5oG"
      },
      "execution_count": null,
      "outputs": []
    },
    {
      "cell_type": "code",
      "source": [
        "llm.invoke(\"hi how ae you\")"
      ],
      "metadata": {
        "colab": {
          "base_uri": "https://localhost:8080/"
        },
        "id": "xiLFu7CNA76G",
        "outputId": "457a0057-49a7-47f5-fed8-d832957228ac"
      },
      "execution_count": null,
      "outputs": [
        {
          "output_type": "execute_result",
          "data": {
            "text/plain": [
              "AIMessage(content=\"I'm doing well, thanks for asking! \\n\\nI'm an AI language model, so I don't have feelings, but I'm here to assist you with any questions or tasks you may have. \\n\\nHow can I help you today? \\n\", response_metadata={'prompt_feedback': {'block_reason': 0, 'safety_ratings': []}, 'finish_reason': 'STOP', 'safety_ratings': [{'category': 'HARM_CATEGORY_SEXUALLY_EXPLICIT', 'probability': 'NEGLIGIBLE', 'blocked': False}, {'category': 'HARM_CATEGORY_HATE_SPEECH', 'probability': 'NEGLIGIBLE', 'blocked': False}, {'category': 'HARM_CATEGORY_HARASSMENT', 'probability': 'NEGLIGIBLE', 'blocked': False}, {'category': 'HARM_CATEGORY_DANGEROUS_CONTENT', 'probability': 'NEGLIGIBLE', 'blocked': False}]}, id='run-268da679-899d-473e-b8ff-b874f5d89854-0')"
            ]
          },
          "metadata": {},
          "execution_count": 9
        }
      ]
    },
    {
      "cell_type": "code",
      "source": [
        "from langchain_core.messages import HumanMessage"
      ],
      "metadata": {
        "id": "Ca3yaCO7ESKk"
      },
      "execution_count": null,
      "outputs": []
    },
    {
      "cell_type": "code",
      "source": [
        "from langchain_google_genai import HarmBlockThreshold, HarmCategory\n",
        "\n",
        "safety_settings = {\n",
        "    HarmCategory.HARM_CATEGORY_UNSPECIFIED: HarmBlockThreshold.BLOCK_NONE,\n",
        "    HarmCategory.HARM_CATEGORY_DANGEROUS_CONTENT: HarmBlockThreshold.BLOCK_NONE,\n",
        "    HarmCategory.HARM_CATEGORY_HATE_SPEECH: HarmBlockThreshold.BLOCK_NONE,\n",
        "    HarmCategory.HARM_CATEGORY_HARASSMENT: HarmBlockThreshold.BLOCK_NONE,\n",
        "    HarmCategory.HARM_CATEGORY_SEXUALLY_EXPLICIT: HarmBlockThreshold.BLOCK_NONE,\n",
        "}"
      ],
      "metadata": {
        "id": "vRUI9-IkE9Hu"
      },
      "execution_count": null,
      "outputs": []
    },
    {
      "cell_type": "code",
      "source": [
        "llm = ChatGoogleGenerativeAI(model=\"gemini-1.5-pro-latest\",safety_settings=safety_settings,temperature=0)"
      ],
      "metadata": {
        "id": "MQL5VbRzFBMd"
      },
      "execution_count": null,
      "outputs": []
    },
    {
      "cell_type": "code",
      "source": [
        "image_message = {\n",
        "    \"type\": \"image_url\",\n",
        "    \"image_url\": {\"url\": \"https://images.drlogy.com/assets/uploads/lab/image/cbc-test-report-format-example-sample-template-drlogy-lab-report.webp\"},\n",
        "}\n",
        "text_message = {\n",
        "    \"type\": \"text\",\n",
        "    \"text\": \"extract the schema for this cbc repor and fille the schema whith appropriate values in json forat\",\n",
        "}"
      ],
      "metadata": {
        "id": "Ks2cIkxLFFh1"
      },
      "execution_count": null,
      "outputs": []
    },
    {
      "cell_type": "code",
      "source": [
        "message = HumanMessage(content=[text_message, image_message])"
      ],
      "metadata": {
        "id": "E18JPKl-Fk96"
      },
      "execution_count": null,
      "outputs": []
    },
    {
      "cell_type": "code",
      "source": [
        "from typing import Optional\n",
        "from pydantic import BaseModel, Field\n",
        "\n",
        "class Format(BaseModel):\n",
        "  value: Optional[int |float ] = Field(description=\"value of the particular attribute fromt the report\")\n",
        "  unit: Optional[str] = Field(description=\"unit of the value extracted if no unit \"\" \")\n",
        "  range: Optional[str] = Field(description=\"range of the value the report specifies \")\n",
        "\n",
        "class CBC(BaseModel):\n",
        "    WBC_count: Format = Field( description=\"White Blood Cell count \")\n",
        "    RBC_count: Optional[Format] = Field( description=\"Red Blood Cell count \")\n",
        "    Hemoglobin: Format = Field(description=\"Hemoglobin concentration from the report\")\n",
        "    Hematocrit: Format = Field(description=\"Hematocrit percentage\")\n",
        "    MCV: Format = Field(description=\"Mean Corpuscular Volume \")\n",
        "    MCH: Format = Field(description=\"Mean Corpuscular Hemoglobin \")\n",
        "    MCHC: Format = Field( description=\"Mean Corpuscular Hemoglobin Concentration \")\n",
        "    RDW: Format = Field(description=\"Red Cell Distribution Width (size and shape)\")\n",
        "    Platelet_count: Format = Field(description=\"Platelet count\")\n",
        "    MPV: Optional[Format] = Field(description=\"Mean Platelet Volume \")"
      ],
      "metadata": {
        "id": "L_7Dcr_gFrD-"
      },
      "execution_count": null,
      "outputs": []
    },
    {
      "cell_type": "code",
      "source": [
        "from langchain.output_parsers import PydanticOutputParser\n",
        "parser = PydanticOutputParser(pydantic_object=CBC)"
      ],
      "metadata": {
        "id": "tcMYe8OLGKuG"
      },
      "execution_count": null,
      "outputs": []
    },
    {
      "cell_type": "code",
      "source": [
        "parser.get_format_instructions()"
      ],
      "metadata": {
        "colab": {
          "base_uri": "https://localhost:8080/",
          "height": 244
        },
        "id": "WXeu0W-hGN9f",
        "outputId": "7b387a24-d691-4879-dc0e-d2afda6f83f3"
      },
      "execution_count": null,
      "outputs": [
        {
          "output_type": "execute_result",
          "data": {
            "text/plain": [
              "'The output should be formatted as a JSON instance that conforms to the JSON schema below.\\n\\nAs an example, for the schema {\"properties\": {\"foo\": {\"title\": \"Foo\", \"description\": \"a list of strings\", \"type\": \"array\", \"items\": {\"type\": \"string\"}}}, \"required\": [\"foo\"]}\\nthe object {\"foo\": [\"bar\", \"baz\"]} is a well-formatted instance of the schema. The object {\"properties\": {\"foo\": [\"bar\", \"baz\"]}} is not well-formatted.\\n\\nHere is the output schema:\\n```\\n{\"$defs\": {\"Format\": {\"properties\": {\"value\": {\"anyOf\": [{\"type\": \"integer\"}, {\"type\": \"number\"}, {\"type\": \"null\"}], \"description\": \"value of the particular attribute fromt the report\", \"title\": \"Value\"}, \"unit\": {\"anyOf\": [{\"type\": \"string\"}, {\"type\": \"null\"}], \"description\": \"unit of the value extracted if no unit  \", \"title\": \"Unit\"}, \"range\": {\"anyOf\": [{\"type\": \"string\"}, {\"type\": \"null\"}], \"description\": \"range of the value the report specifies \", \"title\": \"Range\"}}, \"required\": [\"value\", \"unit\", \"range\"], \"title\": \"Format\", \"type\": \"object\"}}, \"properties\": {\"WBC_count\": {\"allOf\": [{\"$ref\": \"#/$defs/Format\"}], \"description\": \"White Blood Cell count \"}, \"RBC_count\": {\"anyOf\": [{\"$ref\": \"#/$defs/Format\"}, {\"type\": \"null\"}], \"description\": \"Red Blood Cell count \"}, \"Hemoglobin\": {\"allOf\": [{\"$ref\": \"#/$defs/Format\"}], \"description\": \"Hemoglobin concentration from the report\"}, \"Hematocrit\": {\"allOf\": [{\"$ref\": \"#/$defs/Format\"}], \"description\": \"Hematocrit percentage\"}, \"MCV\": {\"allOf\": [{\"$ref\": \"#/$defs/Format\"}], \"description\": \"Mean Corpuscular Volume \"}, \"MCH\": {\"allOf\": [{\"$ref\": \"#/$defs/Format\"}], \"description\": \"Mean Corpuscular Hemoglobin \"}, \"MCHC\": {\"allOf\": [{\"$ref\": \"#/$defs/Format\"}], \"description\": \"Mean Corpuscular Hemoglobin Concentration \"}, \"RDW\": {\"allOf\": [{\"$ref\": \"#/$defs/Format\"}], \"description\": \"Red Cell Distribution Width (size and shape)\"}, \"Platelet_count\": {\"allOf\": [{\"$ref\": \"#/$defs/Format\"}], \"description\": \"Platelet count\"}, \"MPV\": {\"anyOf\": [{\"$ref\": \"#/$defs/Format\"}, {\"type\": \"null\"}], \"description\": \"Mean Platelet Volume \"}}, \"required\": [\"WBC_count\", \"RBC_count\", \"Hemoglobin\", \"Hematocrit\", \"MCV\", \"MCH\", \"MCHC\", \"RDW\", \"Platelet_count\", \"MPV\"]}\\n```'"
            ],
            "application/vnd.google.colaboratory.intrinsic+json": {
              "type": "string"
            }
          },
          "metadata": {},
          "execution_count": 18
        }
      ]
    },
    {
      "cell_type": "code",
      "source": [
        "template=\"you are a json data exctractor i need you to extract data from the images of medical reports in the given schema.\\nschema:{format_instructions}\\n\\n\""
      ],
      "metadata": {
        "id": "wSpIzVS_aSJi"
      },
      "execution_count": null,
      "outputs": []
    },
    {
      "cell_type": "code",
      "source": [
        "from langchain_core.prompts import PromptTemplate\n",
        "template = PromptTemplate(template=\"you are a json data exctractor i need you to extract data from the images of medical reports in the given schema.\\nschema:{format_instructions}\\n\\n\",\n",
        "    input_variables=[],\n",
        "    partial_variables={\"format_instructions\": parser.get_format_instructions()},\n",
        ")"
      ],
      "metadata": {
        "id": "zjmYXNb09upq"
      },
      "execution_count": null,
      "outputs": []
    },
    {
      "cell_type": "code",
      "source": [
        "text = template.format()"
      ],
      "metadata": {
        "id": "bC2vD0CO9xZh"
      },
      "execution_count": null,
      "outputs": []
    },
    {
      "cell_type": "code",
      "source": [
        "text"
      ],
      "metadata": {
        "colab": {
          "base_uri": "https://localhost:8080/",
          "height": 244
        },
        "id": "Thr2OpFi9z0T",
        "outputId": "d1054aea-933a-4bee-e923-f7d5a37c8767"
      },
      "execution_count": null,
      "outputs": [
        {
          "output_type": "execute_result",
          "data": {
            "text/plain": [
              "'you are a json data exctractor i need you to extract data from the images of medical reports in the given schema.\\nschema:The output should be formatted as a JSON instance that conforms to the JSON schema below.\\n\\nAs an example, for the schema {\"properties\": {\"foo\": {\"title\": \"Foo\", \"description\": \"a list of strings\", \"type\": \"array\", \"items\": {\"type\": \"string\"}}}, \"required\": [\"foo\"]}\\nthe object {\"foo\": [\"bar\", \"baz\"]} is a well-formatted instance of the schema. The object {\"properties\": {\"foo\": [\"bar\", \"baz\"]}} is not well-formatted.\\n\\nHere is the output schema:\\n```\\n{\"$defs\": {\"Format\": {\"properties\": {\"value\": {\"anyOf\": [{\"type\": \"integer\"}, {\"type\": \"number\"}, {\"type\": \"null\"}], \"description\": \"value of the particular attribute fromt the report\", \"title\": \"Value\"}, \"unit\": {\"anyOf\": [{\"type\": \"string\"}, {\"type\": \"null\"}], \"description\": \"unit of the value extracted if no unit  \", \"title\": \"Unit\"}, \"range\": {\"anyOf\": [{\"type\": \"string\"}, {\"type\": \"null\"}], \"description\": \"range of the value the report specifies \", \"title\": \"Range\"}}, \"required\": [\"value\", \"unit\", \"range\"], \"title\": \"Format\", \"type\": \"object\"}}, \"properties\": {\"WBC_count\": {\"allOf\": [{\"$ref\": \"#/$defs/Format\"}], \"description\": \"White Blood Cell count \"}, \"RBC_count\": {\"anyOf\": [{\"$ref\": \"#/$defs/Format\"}, {\"type\": \"null\"}], \"description\": \"Red Blood Cell count \"}, \"Hemoglobin\": {\"allOf\": [{\"$ref\": \"#/$defs/Format\"}], \"description\": \"Hemoglobin concentration from the report\"}, \"Hematocrit\": {\"allOf\": [{\"$ref\": \"#/$defs/Format\"}], \"description\": \"Hematocrit percentage\"}, \"MCV\": {\"allOf\": [{\"$ref\": \"#/$defs/Format\"}], \"description\": \"Mean Corpuscular Volume \"}, \"MCH\": {\"allOf\": [{\"$ref\": \"#/$defs/Format\"}], \"description\": \"Mean Corpuscular Hemoglobin \"}, \"MCHC\": {\"allOf\": [{\"$ref\": \"#/$defs/Format\"}], \"description\": \"Mean Corpuscular Hemoglobin Concentration \"}, \"RDW\": {\"allOf\": [{\"$ref\": \"#/$defs/Format\"}], \"description\": \"Red Cell Distribution Width (size and shape)\"}, \"Platelet_count\": {\"allOf\": [{\"$ref\": \"#/$defs/Format\"}], \"description\": \"Platelet count\"}, \"MPV\": {\"anyOf\": [{\"$ref\": \"#/$defs/Format\"}, {\"type\": \"null\"}], \"description\": \"Mean Platelet Volume \"}}, \"required\": [\"WBC_count\", \"RBC_count\", \"Hemoglobin\", \"Hematocrit\", \"MCV\", \"MCH\", \"MCHC\", \"RDW\", \"Platelet_count\", \"MPV\"]}\\n```\\n\\n'"
            ],
            "application/vnd.google.colaboratory.intrinsic+json": {
              "type": "string"
            }
          },
          "metadata": {},
          "execution_count": 22
        }
      ]
    },
    {
      "cell_type": "code",
      "source": [
        "#Processing Images\n",
        "from langchain_core.messages import SystemMessage\n",
        "def pass_img(url):\n",
        "  image_message = {\n",
        "    \"type\": \"image_url\",\n",
        "    \"image_url\": {\"url\": url},\n",
        "  }\n",
        "  text_message = {\n",
        "      \"type\": \"text\",\n",
        "      \"text\": \"\"\"you are a medical lab report assistant your job is to extract data from lab reorts and store them in proper json format\"\"\",\n",
        "  }\n",
        "  format_inst = {\n",
        "    \"type\": \"text\",\n",
        "    \"text\": text,\n",
        "  }\n",
        "  sysmsg = SystemMessage(content=[text_message])\n",
        "  message = HumanMessage(content=[image_message, format_inst])\n",
        "  return [sysmsg,message]"
      ],
      "metadata": {
        "id": "TAuHZRaFB5br"
      },
      "execution_count": null,
      "outputs": []
    },
    {
      "cell_type": "code",
      "source": [
        "from langchain_core.messages import SystemMessage\n",
        "def pass_img(url):\n",
        "  image_message = {\n",
        "    \"type\": \"image_url\",\n",
        "    \"image_url\": {\"url\": url},\n",
        "  }\n",
        "  text_message = {\n",
        "      \"type\": \"text\",\n",
        "      \"text\": \"\"\"you are a medical lab report assistant your job is to extract data from lab reorts and store them in proper json format\"\"\",\n",
        "  }\n",
        "  format_inst = {\n",
        "    \"type\": \"text\",\n",
        "    \"text\": text,\n",
        "  }\n",
        "  sysmsg = SystemMessage(content=[text_message])\n",
        "  message = HumanMessage(content=[image_message, format_inst])\n",
        "  return [sysmsg,message]"
      ],
      "metadata": {
        "id": "C2TGhuVUB9hR"
      },
      "execution_count": null,
      "outputs": []
    },
    {
      "cell_type": "code",
      "source": [
        "from langchain_core.runnables import RunnableParallel, RunnableLambda\n",
        "# Combining Everything in a Runnable Chain  and used to create executable workflows."
      ],
      "metadata": {
        "id": "ESdEjbFeCAcX"
      },
      "execution_count": null,
      "outputs": []
    },
    {
      "cell_type": "code",
      "source": [
        "pass_img"
      ],
      "metadata": {
        "colab": {
          "base_uri": "https://localhost:8080/",
          "height": 103
        },
        "id": "A5TgTH_ACCM3",
        "outputId": "0ac35818-5332-4ae5-d153-9734ab067e70"
      },
      "execution_count": null,
      "outputs": [
        {
          "output_type": "execute_result",
          "data": {
            "text/plain": [
              "<function __main__.pass_img(url)>"
            ],
            "text/html": [
              "<div style=\"max-width:800px; border: 1px solid var(--colab-border-color);\"><style>\n",
              "      pre.function-repr-contents {\n",
              "        overflow-x: auto;\n",
              "        padding: 8px 12px;\n",
              "        max-height: 500px;\n",
              "      }\n",
              "\n",
              "      pre.function-repr-contents.function-repr-contents-collapsed {\n",
              "        cursor: pointer;\n",
              "        max-height: 100px;\n",
              "      }\n",
              "    </style>\n",
              "    <pre style=\"white-space: initial; background:\n",
              "         var(--colab-secondary-surface-color); padding: 8px 12px;\n",
              "         border-bottom: 1px solid var(--colab-border-color);\"><b>pass_img</b><br/>def pass_img(url)</pre><pre class=\"function-repr-contents function-repr-contents-collapsed\" style=\"\"><a class=\"filepath\" style=\"display:none\" href=\"#\">/content/&lt;ipython-input-24-f4cbd3ed7a52&gt;</a>&lt;no docstring&gt;</pre></div>"
            ]
          },
          "metadata": {},
          "execution_count": 26
        }
      ]
    },
    {
      "cell_type": "code",
      "source": [
        "#Combines the image processing function, language model, and output parser into a single executable chain using the pipe (|) operator\n",
        "chain = RunnableLambda(pass_img) | llm | RunnableLambda(lambda x: x.content) | parser"
      ],
      "metadata": {
        "id": "XIP32MEGCHBa"
      },
      "execution_count": null,
      "outputs": []
    },
    {
      "cell_type": "code",
      "source": [
        "RunnableLambda(pass_img)"
      ],
      "metadata": {
        "colab": {
          "base_uri": "https://localhost:8080/"
        },
        "id": "U3cL5OuiCJo-",
        "outputId": "7ba2d7ff-914b-4d1f-e450-f90909a2bf26"
      },
      "execution_count": null,
      "outputs": [
        {
          "output_type": "execute_result",
          "data": {
            "text/plain": [
              "RunnableLambda(pass_img)"
            ]
          },
          "metadata": {},
          "execution_count": 28
        }
      ]
    },
    {
      "cell_type": "code",
      "source": [
        "chain = RunnableLambda(pass_img)"
      ],
      "metadata": {
        "id": "eesBia5iDwY5"
      },
      "execution_count": null,
      "outputs": []
    },
    {
      "cell_type": "code",
      "source": [
        "result = chain.invoke(\"https://images.drlogy.com/assets/uploads/lab/image/cbc-test-report-format-example-sample-template-drlogy-lab-report.webp\")"
      ],
      "metadata": {
        "id": "GgC-T31QD0-a"
      },
      "execution_count": null,
      "outputs": []
    },
    {
      "cell_type": "code",
      "source": [
        "#Prints the final result, which should be the extracted data in JSON format validated against the CBC schema\n",
        "result"
      ],
      "metadata": {
        "colab": {
          "base_uri": "https://localhost:8080/"
        },
        "id": "MDjWZT8WD3nm",
        "outputId": "a7f8ab27-2129-402c-fea3-dbfc47e121fa"
      },
      "execution_count": null,
      "outputs": [
        {
          "output_type": "execute_result",
          "data": {
            "text/plain": [
              "[SystemMessage(content=[{'type': 'text', 'text': 'you are a medical lab report assistant your job is to extract data from lab reorts and store them in proper json format'}]),\n",
              " HumanMessage(content=[{'type': 'image_url', 'image_url': {'url': 'https://images.drlogy.com/assets/uploads/lab/image/cbc-test-report-format-example-sample-template-drlogy-lab-report.webp'}}, {'type': 'text', 'text': 'you are a json data exctractor i need you to extract data from the images of medical reports in the given schema.\\nschema:The output should be formatted as a JSON instance that conforms to the JSON schema below.\\n\\nAs an example, for the schema {\"properties\": {\"foo\": {\"title\": \"Foo\", \"description\": \"a list of strings\", \"type\": \"array\", \"items\": {\"type\": \"string\"}}}, \"required\": [\"foo\"]}\\nthe object {\"foo\": [\"bar\", \"baz\"]} is a well-formatted instance of the schema. The object {\"properties\": {\"foo\": [\"bar\", \"baz\"]}} is not well-formatted.\\n\\nHere is the output schema:\\n```\\n{\"$defs\": {\"Format\": {\"properties\": {\"value\": {\"anyOf\": [{\"type\": \"integer\"}, {\"type\": \"number\"}, {\"type\": \"null\"}], \"description\": \"value of the particular attribute fromt the report\", \"title\": \"Value\"}, \"unit\": {\"anyOf\": [{\"type\": \"string\"}, {\"type\": \"null\"}], \"description\": \"unit of the value extracted if no unit  \", \"title\": \"Unit\"}, \"range\": {\"anyOf\": [{\"type\": \"string\"}, {\"type\": \"null\"}], \"description\": \"range of the value the report specifies \", \"title\": \"Range\"}}, \"required\": [\"value\", \"unit\", \"range\"], \"title\": \"Format\", \"type\": \"object\"}}, \"properties\": {\"WBC_count\": {\"allOf\": [{\"$ref\": \"#/$defs/Format\"}], \"description\": \"White Blood Cell count \"}, \"RBC_count\": {\"anyOf\": [{\"$ref\": \"#/$defs/Format\"}, {\"type\": \"null\"}], \"description\": \"Red Blood Cell count \"}, \"Hemoglobin\": {\"allOf\": [{\"$ref\": \"#/$defs/Format\"}], \"description\": \"Hemoglobin concentration from the report\"}, \"Hematocrit\": {\"allOf\": [{\"$ref\": \"#/$defs/Format\"}], \"description\": \"Hematocrit percentage\"}, \"MCV\": {\"allOf\": [{\"$ref\": \"#/$defs/Format\"}], \"description\": \"Mean Corpuscular Volume \"}, \"MCH\": {\"allOf\": [{\"$ref\": \"#/$defs/Format\"}], \"description\": \"Mean Corpuscular Hemoglobin \"}, \"MCHC\": {\"allOf\": [{\"$ref\": \"#/$defs/Format\"}], \"description\": \"Mean Corpuscular Hemoglobin Concentration \"}, \"RDW\": {\"allOf\": [{\"$ref\": \"#/$defs/Format\"}], \"description\": \"Red Cell Distribution Width (size and shape)\"}, \"Platelet_count\": {\"allOf\": [{\"$ref\": \"#/$defs/Format\"}], \"description\": \"Platelet count\"}, \"MPV\": {\"anyOf\": [{\"$ref\": \"#/$defs/Format\"}, {\"type\": \"null\"}], \"description\": \"Mean Platelet Volume \"}}, \"required\": [\"WBC_count\", \"RBC_count\", \"Hemoglobin\", \"Hematocrit\", \"MCV\", \"MCH\", \"MCHC\", \"RDW\", \"Platelet_count\", \"MPV\"]}\\n```\\n\\n'}])]"
            ]
          },
          "metadata": {},
          "execution_count": 31
        }
      ]
    }
  ]
}